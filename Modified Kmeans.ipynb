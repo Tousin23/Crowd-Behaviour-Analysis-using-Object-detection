{
 "cells": [
  {
   "cell_type": "code",
   "execution_count": 1,
   "metadata": {},
   "outputs": [],
   "source": [
    "import pandas as pd\n",
    "import numpy as np\n",
    "from sklearn import datasets\n",
    "from sklearn.cluster import KMeans\n",
    "import matplotlib.pyplot as plt\n",
    "import matplotlib.patches as mpatches\n",
    "import sklearn.metrics as sm\n",
    "import math\n",
    "import tensorflow as tf\n",
    "#import cv2\n",
    "import glob\n",
    "import os\n",
    "import time, threading\n",
    "import json"
   ]
  },
  {
   "cell_type": "code",
   "execution_count": 2,
   "metadata": {},
   "outputs": [
    {
     "data": {
      "text/plain": [
       "array([[123.5, 296.5],\n",
       "       [ 30.5, 165.5],\n",
       "       [138. , 147. ],\n",
       "       [ 74.5, 136.5],\n",
       "       [ 49. , 114. ],\n",
       "       [ 32.5, 109.5],\n",
       "       [333. , 201. ],\n",
       "       [410.5, 129.5],\n",
       "       [180. , 185. ],\n",
       "       [296.5, 149.5],\n",
       "       [269. , 112. ],\n",
       "       [292. ,  97. ],\n",
       "       [311. , 107. ],\n",
       "       [306.5, 126.5],\n",
       "       [ 80. ,  85. ],\n",
       "       [383. ,  61. ],\n",
       "       [464. , 124. ],\n",
       "       [452.5,  42.5],\n",
       "       [421.5,  30.5],\n",
       "       [392.5,  34.5],\n",
       "       [370. ,  32. ],\n",
       "       [243. , 104. ],\n",
       "       [198. , 109. ],\n",
       "       [111.5,  91.5],\n",
       "       [337.5,  34.5],\n",
       "       [311.5,  34.5],\n",
       "       [275.5,  35.5],\n",
       "       [249. ,  34. ],\n",
       "       [230.5,  39.5],\n",
       "       [195. ,  37. ],\n",
       "       [179. ,  36. ],\n",
       "       [258. ,  90. ],\n",
       "       [313.5,  77.5],\n",
       "       [143.5,  81.5],\n",
       "       [ 53.5,  81.5],\n",
       "       [ 95.5, 120.5],\n",
       "       [219.5, 152.5],\n",
       "       [233. , 125. ]])"
      ]
     },
     "execution_count": 2,
     "metadata": {},
     "output_type": "execute_result"
    }
   ],
   "source": [
    "dataset =pd.read_csv('csv0.csv') \n",
    "\n",
    "X = dataset.iloc[:,[16,17]].values\n",
    "X"
   ]
  },
  {
   "cell_type": "code",
   "execution_count": 3,
   "metadata": {},
   "outputs": [],
   "source": [
    "def calc_distance(x1, y1, a, b, c):\n",
    "    \n",
    "    d = abs((a * x1 + b * y1 + c)) / (math.sqrt(a * a + b * b))\n",
    "    \n",
    "    return d"
   ]
  },
  {
   "cell_type": "code",
   "execution_count": 4,
   "metadata": {},
   "outputs": [],
   "source": [
    "wcss = []\n",
    "\n",
    "for i in range(1, 11):\n",
    "   \n",
    "  kmeans = KMeans(n_clusters = i, init = 'k-means++', random_state = 42)\n",
    "   \n",
    "  kmeans.fit(X)\n",
    "   \n",
    "  wcss.append(kmeans.inertia_)"
   ]
  },
  {
   "cell_type": "code",
   "execution_count": 5,
   "metadata": {},
   "outputs": [],
   "source": [
    "K=range(1,11)\n",
    " \n",
    "x = [K[0], K[9]]\n",
    "\n",
    "y = [wcss[0], wcss[9]]"
   ]
  },
  {
   "cell_type": "code",
   "execution_count": 6,
   "metadata": {},
   "outputs": [],
   "source": [
    "a = wcss[0] - wcss[9]\n",
    "\n",
    "b = K[9] - K[0]\n",
    "\n",
    "c1 = K[0] * wcss[9]\n",
    "\n",
    "c2 = K[9] * wcss[0]\n",
    "\n",
    "c = c1 - c2"
   ]
  },
  {
   "cell_type": "code",
   "execution_count": 7,
   "metadata": {},
   "outputs": [
    {
     "data": {
      "image/png": "[encoded data removed]",
      "text/plain": [
       "<Figure size 432x288 with 1 Axes>"
      ]
     },
     "metadata": {
      "needs_background": "light"
     },
     "output_type": "display_data"
    }
   ],
   "source": [
    "plt.plot(range(1, 11), wcss)\n",
    "\n",
    "plt.title('The Elbow Method')\n",
    "\n",
    "plt.xlabel('Number of clusters')\n",
    "\n",
    "plt.ylabel('WCSS')\n",
    "\n",
    "plt.show()"
   ]
  },
  {
   "cell_type": "code",
   "execution_count": 8,
   "metadata": {},
   "outputs": [],
   "source": [
    "distance_of_points_from_line = []\n",
    "\n",
    "\n",
    "\n",
    "for k in range(10):\n",
    "    \n",
    "    distance_of_points_from_line.append(calc_distance(K[k], wcss[k], a, b, c))   "
   ]
  },
  {
   "cell_type": "code",
   "execution_count": 9,
   "metadata": {},
   "outputs": [],
   "source": [
    "optimal_number_of_cluster=1+distance_of_points_from_line.index(max(distance_of_points_from_line))"
   ]
  },
  {
   "cell_type": "code",
   "execution_count": 10,
   "metadata": {},
   "outputs": [],
   "source": [
    "kmeans = KMeans(n_clusters = optimal_number_of_cluster, init = 'k-means++', random_state = 42)\n",
    "\n",
    "y_kmeans = kmeans.fit_predict(X)\n",
    "    "
   ]
  },
  {
   "cell_type": "code",
   "execution_count": 11,
   "metadata": {},
   "outputs": [],
   "source": [
    "cluster_centroids_list=[[None for _ in range(2)] for _ in range(optimal_number_of_cluster)]"
   ]
  },
  {
   "cell_type": "code",
   "execution_count": 12,
   "metadata": {},
   "outputs": [
    {
     "name": "stdout",
     "output_type": "stream",
     "text": [
      "[[262.0, 93.0], [93.0, 134.0], [404.0, 61.0]]\n"
     ]
    }
   ],
   "source": [
    "for j in range(0,optimal_number_of_cluster):\n",
    "    \n",
    "     cluster_centroids_list[j][0]=round(kmeans.cluster_centers_[j][0])\n",
    "    \n",
    "     cluster_centroids_list[j][1]=round(kmeans.cluster_centers_[j][1])\n",
    "\n",
    "\n",
    "        \n",
    "print(cluster_centroids_list)\n"
   ]
  },
  {
   "cell_type": "code",
   "execution_count": 13,
   "metadata": {},
   "outputs": [
    {
     "data": {
      "image/png": "[encoded data removed]",
      "text/plain": [
       "<Figure size 432x288 with 1 Axes>"
      ]
     },
     "metadata": {
      "needs_background": "light"
     },
     "output_type": "display_data"
    }
   ],
   "source": [
    "plt.scatter(X[y_kmeans == 0, 0], X[y_kmeans == 0, 1], s = 30, c = 'red', label = 'Cluster 1')\n",
    "\n",
    "plt.scatter(X[y_kmeans == 1, 0], X[y_kmeans == 1, 1], s = 30, c = 'blue', label = 'Cluster 2')\n",
    "\n",
    "plt.scatter(X[y_kmeans == 2, 0], X[y_kmeans == 2, 1], s = 30, c = 'green', label = 'Cluster 3')\n",
    "\n",
    "plt.scatter(X[y_kmeans == 3, 0], X[y_kmeans == 3, 1], s = 30, c = 'cyan', label = 'Cluster 4')\n",
    "\n",
    "plt.scatter(X[y_kmeans == 4, 0], X[y_kmeans == 4, 1], s = 30, c = 'magenta', label = 'Cluster 5')\n",
    "\n",
    "plt.scatter(kmeans.cluster_centers_[:, 0], kmeans.cluster_centers_[:, 1], s = 70, c = 'yellow', label = 'Centroids')\n",
    "\n",
    "plt.legend()\n",
    "plt.show()"
   ]
  },
  {
   "cell_type": "code",
   "execution_count": 14,
   "metadata": {},
   "outputs": [],
   "source": [
    "def k_mean_distance(data, cx, cy, i_centroid, cluster_labels):\n",
    "    distances=[np.sqrt((x-cx)**2+(y-cy)**2) for (x,y) in data[cluster_labels == i_centroid]]\n",
    "    return np.mean(distances)\n"
   ]
  },
  {
   "cell_type": "code",
   "execution_count": 15,
   "metadata": {},
   "outputs": [],
   "source": [
    "clusters=kmeans.fit_predict(X)\n",
    "centroids = kmeans.cluster_centers_\n",
    "labels=kmeans.labels_"
   ]
  },
  {
   "cell_type": "code",
   "execution_count": 16,
   "metadata": {},
   "outputs": [
    {
     "data": {
      "text/plain": [
       "[58.995744616135035, 63.80117965454809, 51.134662995000994]"
      ]
     },
     "execution_count": 16,
     "metadata": {},
     "output_type": "execute_result"
    }
   ],
   "source": [
    "clusters=kmeans.fit_predict(X)\n",
    "centroids = kmeans.cluster_centers_\n",
    "labels=kmeans.labels_\n",
    "total_distance=[]\n",
    "for i, (cx,cy) in enumerate(centroids):\n",
    "    mean_distance=k_mean_distance(X,cx,cy,i, clusters)\n",
    "    total_distance.append(mean_distance)\n",
    "\n",
    "total_distance\n"
   ]
  }
 ],
 "metadata": {
  "kernelspec": {
   "display_name": "Python 3",
   "language": "python",
   "name": "python3"
  },
  "language_info": {
   "codemirror_mode": {
    "name": "ipython",
    "version": 3
   },
   "file_extension": ".py",
   "mimetype": "text/x-python",
   "name": "python",
   "nbconvert_exporter": "python",
   "pygments_lexer": "ipython3",
   "version": "3.7.3"
  }
 },
 "nbformat": 4,
 "nbformat_minor": 2
}
